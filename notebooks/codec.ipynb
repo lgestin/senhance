{
 "cells": [
  {
   "cell_type": "code",
   "execution_count": 1,
   "metadata": {},
   "outputs": [],
   "source": [
    "import torch\n",
    "from denoiser.data.audio import Audio\n",
    "from denoiser.models.codec.mimi import MimiCodec\n",
    "from denoiser.models.codec.dac import DescriptAudioCodec\n",
    "\n",
    "from IPython.display import Audio as AudioPlayer"
   ]
  },
  {
   "cell_type": "code",
   "execution_count": 21,
   "metadata": {},
   "outputs": [],
   "source": [
    "device = \"cuda\" if torch.cuda.is_available() else \"cpu\"\n",
    "codec = 'dac'\n",
    "\n",
    "if codec == 'mimi':\n",
    "    codec = MimiCodec(\n",
    "        \"/home/lucas/models/moshi/tokenizer-e351c8d8-checkpoint125.safetensors\"\n",
    "    )\n",
    "elif codec == 'dac':\n",
    "    codec = DescriptAudioCodec('/data/models/dac/weights_24khz_8kbps_0.0.4.pth')\n",
    "codec = codec.eval()\n",
    "codec = codec.to(device)"
   ]
  },
  {
   "cell_type": "code",
   "execution_count": null,
   "metadata": {},
   "outputs": [],
   "source": [
    "audio = Audio(\"/data/denoising/speech/daps/clean/f10_script1_clean.wav\")\n",
    "audio.resample(codec.sample_rate)"
   ]
  },
  {
   "cell_type": "code",
   "execution_count": 23,
   "metadata": {},
   "outputs": [],
   "source": [
    "with torch.inference_mode():\n",
    "    reconstructed = codec.decode(codec.encode(audio.waveform[None].to(device)))\n",
    "    # reconstructed = mimi.reconstruct(audio.waveform[None].to(device))"
   ]
  },
  {
   "cell_type": "code",
   "execution_count": null,
   "metadata": {},
   "outputs": [],
   "source": [
    "AudioPlayer(audio.waveform, rate=codec.sample_rate)"
   ]
  },
  {
   "cell_type": "code",
   "execution_count": null,
   "metadata": {},
   "outputs": [],
   "source": [
    "AudioPlayer(reconstructed[0].cpu(), rate=codec.sample_rate)"
   ]
  },
  {
   "cell_type": "code",
   "execution_count": null,
   "metadata": {},
   "outputs": [],
   "source": [
    "from pathlib import Path\n",
    "from denoiser.data.source import AudioSource\n",
    "from denoiser.data.dataset import AudioDataset\n",
    "from torch.utils.data import DataLoader\n",
    "from denoiser.data.collate import collate\n",
    "from tqdm import tqdm\n",
    "\n",
    "sr = codec.sample_rate\n",
    "sequence_length_s = 64 / codec.resolution_hz\n",
    "speech_folder = Path('/data/denoising/speech/daps')\n",
    "\n",
    "train_audio_source = AudioSource(\n",
    "    speech_folder / \"index.json\",\n",
    "    sequence_length_s=sequence_length_s,\n",
    ")\n",
    "train_dataset = AudioDataset(\n",
    "    train_audio_source,\n",
    "    sample_rate=sr,\n",
    "    # augmentation=train_augments,\n",
    ")\n",
    "dloader = DataLoader(\n",
    "    train_dataset,\n",
    "    batch_size=64,\n",
    "    collate_fn=collate,\n",
    "    num_workers=8,\n",
    ")\n",
    "\n",
    "features = []\n",
    "for batch in tqdm(dloader):\n",
    "    batch = batch.to(device)\n",
    "    with torch.inference_mode():\n",
    "        feature = codec.encode(batch.waveforms).cpu()\n",
    "    features.append(feature)\n",
    "features = torch.cat(features, dim=0)"
   ]
  },
  {
   "cell_type": "code",
   "execution_count": null,
   "metadata": {},
   "outputs": [],
   "source": [
    "import matplotlib.pyplot as plt\n",
    "\n",
    "plt.imshow(features[0], aspect='auto')\n",
    "plt.colorbar()"
   ]
  },
  {
   "cell_type": "code",
   "execution_count": null,
   "metadata": {},
   "outputs": [],
   "source": [
    "features.min(), features.max(), features.mean(), features.std()"
   ]
  },
  {
   "cell_type": "code",
   "execution_count": null,
   "metadata": {},
   "outputs": [],
   "source": []
  }
 ],
 "metadata": {
  "kernelspec": {
   "display_name": "dev",
   "language": "python",
   "name": "python3"
  },
  "language_info": {
   "codemirror_mode": {
    "name": "ipython",
    "version": 3
   },
   "file_extension": ".py",
   "mimetype": "text/x-python",
   "name": "python",
   "nbconvert_exporter": "python",
   "pygments_lexer": "ipython3",
   "version": "3.12.4"
  }
 },
 "nbformat": 4,
 "nbformat_minor": 2
}
