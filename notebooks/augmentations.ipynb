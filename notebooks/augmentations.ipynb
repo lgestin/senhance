{
 "cells": [
  {
   "cell_type": "code",
   "execution_count": 1,
   "metadata": {},
   "outputs": [],
   "source": [
    "import torch\n",
    "import torchaudio.functional as F\n",
    "\n",
    "from denoiser.data.audio import Audio\n",
    "from denoiser.data.augmentations import BackgroundNoise\n",
    "from IPython.display import Audio as AudioPlayer"
   ]
  },
  {
   "cell_type": "code",
   "execution_count": 25,
   "metadata": {},
   "outputs": [],
   "source": [
    "x = Audio('/data/denoising/speech/daps/clean/f10_script1_clean.wav')\n",
    "bnoise = BackgroundNoise('/data/denoising/noise/records/DNC/index.json', min_snr=-5.0, max_snr=25.0, p=1.0)"
   ]
  },
  {
   "cell_type": "code",
   "execution_count": null,
   "metadata": {},
   "outputs": [],
   "source": [
    "AudioPlayer(x.random_excerpt(1.7).waveform.numpy(), rate=x.sample_rate)"
   ]
  },
  {
   "cell_type": "code",
   "execution_count": null,
   "metadata": {},
   "outputs": [],
   "source": [
    "excerpt = x.random_excerpt(1)\n",
    "AudioPlayer(excerpt.waveform.numpy(), rate=excerpt.sample_rate)"
   ]
  },
  {
   "cell_type": "code",
   "execution_count": null,
   "metadata": {},
   "outputs": [],
   "source": [
    "augmented, noise = bnoise(excerpt)\n",
    "AudioPlayer(augmented.waveform.numpy(), rate=augmented.sample_rate)"
   ]
  },
  {
   "cell_type": "code",
   "execution_count": null,
   "metadata": {},
   "outputs": [],
   "source": [
    "AudioPlayer(noise.waveform.numpy(), rate=noise.sample_rate)"
   ]
  },
  {
   "cell_type": "code",
   "execution_count": null,
   "metadata": {},
   "outputs": [],
   "source": []
  }
 ],
 "metadata": {
  "kernelspec": {
   "display_name": "dev",
   "language": "python",
   "name": "python3"
  },
  "language_info": {
   "codemirror_mode": {
    "name": "ipython",
    "version": 3
   },
   "file_extension": ".py",
   "mimetype": "text/x-python",
   "name": "python",
   "nbconvert_exporter": "python",
   "pygments_lexer": "ipython3",
   "version": "3.12.4"
  }
 },
 "nbformat": 4,
 "nbformat_minor": 2
}
