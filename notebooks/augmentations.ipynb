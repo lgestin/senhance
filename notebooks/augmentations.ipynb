{
 "cells": [
  {
   "cell_type": "code",
   "execution_count": null,
   "metadata": {},
   "outputs": [],
   "source": [
    "import torch\n",
    "import torchaudio.functional as F\n",
    "\n",
    "from senhance.data.audio import Audio\n",
    "from senhance.data.augmentations.background_noise import BackgroundNoise\n",
    "from senhance.data.augmentations.reverb import Reverb\n",
    "from senhance.data.augmentations.clipping import Clipping\n",
    "from senhance.data.augmentations.speed import Speed\n",
    "from senhance.data.augmentations.dither import Dither\n",
    "from senhance.data.augmentations.flanger import Flanger\n",
    "from senhance.data.augmentations.overdrive import Overdrive\n",
    "from senhance.data.augmentations.phaser import Phaser\n",
    "from senhance.data.augmentations.filters import LowPass, HighPass, BandPass\n",
    "from senhance.data.augmentations.chain import Chain\n",
    "from senhance.data.augmentations.default import get_default_augmentation\n",
    "\n",
    "from IPython.display import display\n",
    "from IPython.display import Audio as AudioPlayer"
   ]
  },
  {
   "cell_type": "code",
   "execution_count": null,
   "metadata": {},
   "outputs": [],
   "source": []
  },
  {
   "cell_type": "code",
   "execution_count": 2,
   "metadata": {},
   "outputs": [],
   "source": [
    "x = Audio(\"/data/denoising/speech/daps/clean/f10_script1_clean.wav\")\n",
    "x = x.resample(24_000)\n",
    "bnoise = BackgroundNoise(\n",
    "    \"/data/denoising/noise/records/DEMAND/48k/index.train.json\",\n",
    "    min_snr=5.0,\n",
    "    max_snr=25.0,\n",
    "    p=1.0,\n",
    ")\n",
    "reverb = Reverb(\n",
    "    ir_index_path=\"/data/denoising/noise/irs/RoyJames/OPENAIR/IRs/air-museum/index.json\",\n",
    "    # min_drr=0.0,\n",
    "    # max_drr=1.0,\n",
    "    p=0.5,\n",
    ")\n",
    "clipping = Clipping(min_clip_percentile=0.0, max_clip_percentile=0.1, p=0.8)\n",
    "low_pass = LowPass(freqs_hz=torch.linspace(1000, 24000, 10).tolist(), p=1.0)\n",
    "high_pass = HighPass(freqs_hz=[4000, 8000], p=1.0)\n",
    "band_pass = BandPass(bands_hz=[[400, 800]], p=1.0)\n",
    "speed = Speed(min_factor=0.5, max_factor=1.5, p=1.0)\n",
    "dither = Dither()\n",
    "flanger = Flanger()\n",
    "overdrive = Overdrive(min_gain=10, max_gain=90, min_colour=10, max_colour=90)\n",
    "phaser = Phaser(\n",
    "    min_gain_in=0,\n",
    "    max_gain_in=1,\n",
    "    min_gain_out=0,\n",
    "    max_gain_out=100,\n",
    "    min_delay_ms=0,\n",
    "    max_delay_ms=5,\n",
    "    min_decay=0,\n",
    "    max_decay=0.99,\n",
    "    min_mod_speed=0.1,\n",
    "    max_mod_speed=2,\n",
    ")\n",
    "\n",
    "chain = Chain(bnoise, reverb, low_pass)"
   ]
  },
  {
   "cell_type": "code",
   "execution_count": null,
   "metadata": {},
   "outputs": [],
   "source": [
    "AudioPlayer(x.random_excerpt(1.7).waveform.numpy(), rate=x.sample_rate)"
   ]
  },
  {
   "cell_type": "code",
   "execution_count": null,
   "metadata": {},
   "outputs": [],
   "source": [
    "excerpt = x.random_excerpt(3).normalize(-24.0)\n",
    "AudioPlayer(excerpt.waveform.numpy(), rate=excerpt.sample_rate)"
   ]
  },
  {
   "cell_type": "code",
   "execution_count": null,
   "metadata": {},
   "outputs": [],
   "source": [
    "augment = get_default_augmentation(sequence_length_s=64 / 75, split=\"train\", p=1.0)\n",
    "# augment = high_pass\n",
    "augment_params = augment.sample_parameters(excerpt)\n",
    "print(augment_params)"
   ]
  },
  {
   "cell_type": "code",
   "execution_count": null,
   "metadata": {},
   "outputs": [],
   "source": [
    "augmented = augment.augment(excerpt.waveform[None], augment_params)\n",
    "AudioPlayer(augmented[0], rate=excerpt.sample_rate)"
   ]
  },
  {
   "cell_type": "code",
   "execution_count": null,
   "metadata": {},
   "outputs": [],
   "source": [
    "import matplotlib.pyplot as plt\n",
    "\n",
    "from senhance.data.stft import MelSpectrogram\n",
    "\n",
    "mel_spectrogram = MelSpectrogram(1024, 256, 80, x.sample_rate)\n",
    "mels = mel_spectrogram.magnitudes(excerpt.waveform)\n",
    "plt.figure()\n",
    "plt.imshow(mels[0].log().flip(0), aspect=\"auto\")\n",
    "plt.figure()\n",
    "mels = mel_spectrogram.magnitudes(augmented)\n",
    "plt.imshow(mels[0].log().flip(0), aspect=\"auto\")"
   ]
  },
  {
   "cell_type": "code",
   "execution_count": 8,
   "metadata": {},
   "outputs": [],
   "source": [
    "# noise = augment_params.noise[0]\n",
    "# print(augment_params.snr[0])\n",
    "# AudioPlayer(noise.numpy(), rate=excerpt.sample_rate)"
   ]
  },
  {
   "cell_type": "code",
   "execution_count": 9,
   "metadata": {},
   "outputs": [],
   "source": [
    "from concurrent.futures import ThreadPoolExecutor\n",
    "\n",
    "with ThreadPoolExecutor(4) as executor:\n",
    "    futures = [executor.submit(x.salient_excerpt, 1) for _ in range(16)]\n",
    "    excerpts = [future.result() for future in futures]"
   ]
  },
  {
   "cell_type": "code",
   "execution_count": null,
   "metadata": {},
   "outputs": [],
   "source": [
    "from senhance.data.augmentations.augmentations import BatchAugmentationParameters\n",
    "augment_params = [augment.sample_parameters(excerpt) for excerpt in excerpts]\n",
    "augment_params = BatchAugmentationParameters.collate(augment_params)"
   ]
  },
  {
   "cell_type": "code",
   "execution_count": 11,
   "metadata": {},
   "outputs": [],
   "source": [
    "excerpts_waveforms = torch.stack([excerpt.waveform for excerpt in excerpts])\n",
    "augmented = augment.augment(excerpts_waveforms, augment_params)"
   ]
  },
  {
   "cell_type": "code",
   "execution_count": null,
   "metadata": {},
   "outputs": [],
   "source": [
    "print(((augmented - excerpts_waveforms).abs()).sum(dim=(1, 2)))\n",
    "((augmented - excerpts_waveforms).abs() < 1e-5).sum(dim=(1, 2))"
   ]
  },
  {
   "cell_type": "code",
   "execution_count": null,
   "metadata": {},
   "outputs": [],
   "source": [
    "for i in range(8):\n",
    "    print(augment_params[i].params)\n",
    "    display(AudioPlayer(augmented[i], rate=24000))"
   ]
  },
  {
   "cell_type": "code",
   "execution_count": null,
   "metadata": {},
   "outputs": [],
   "source": []
  },
  {
   "cell_type": "code",
   "execution_count": null,
   "metadata": {},
   "outputs": [],
   "source": [
    "ir = (\n",
    "    Audio(\n",
    "        \"/data/denoising/noise/irs/RoyJames/OPENAIR/IRs/air-museum/b-format/AR_bformat_S1R1_1.wav\"\n",
    "    )\n",
    "    .mono()\n",
    "    .resample(excerpt.sample_rate)\n",
    ")\n",
    "print(ir.sample_rate)"
   ]
  },
  {
   "cell_type": "code",
   "execution_count": null,
   "metadata": {},
   "outputs": [],
   "source": [
    "display(AudioPlayer(excerpt.waveform, rate=excerpt.sample_rate))\n",
    "display(AudioPlayer(ir.waveform, rate=ir.sample_rate))"
   ]
  },
  {
   "cell_type": "code",
   "execution_count": 174,
   "metadata": {},
   "outputs": [],
   "source": [
    "rir = ir.waveform[..., ir.waveform.argmax() - 1 :]\n",
    "rir = rir / torch.linalg.vector_norm(rir, ord=2)\n",
    "rir = torch.nn.functional.pad(rir, (0, excerpt.waveform.shape[-1] - rir.shape[-1]))\n",
    "out = F.fftconvolve(excerpt.waveform[None], rir[None])[\n",
    "    ..., : excerpt.waveform.shape[-1]\n",
    "]"
   ]
  },
  {
   "cell_type": "code",
   "execution_count": null,
   "metadata": {},
   "outputs": [],
   "source": [
    "ir.waveform.shape, excerpt.waveform.shape, out.shape, excerpt.waveform.shape"
   ]
  },
  {
   "cell_type": "code",
   "execution_count": null,
   "metadata": {},
   "outputs": [],
   "source": [
    "AudioPlayer(out[0], rate=ir.sample_rate)"
   ]
  },
  {
   "cell_type": "code",
   "execution_count": null,
   "metadata": {},
   "outputs": [],
   "source": [
    "mel_spectrogram = MelSpectrogram(1024, 256, 80, ir.sample_rate)\n",
    "plt.imshow(mel_spectrogram(rir[None]).log()[0].flip(0))"
   ]
  },
  {
   "cell_type": "code",
   "execution_count": null,
   "metadata": {},
   "outputs": [],
   "source": [
    "plt.plot(rir[0])"
   ]
  },
  {
   "cell_type": "code",
   "execution_count": null,
   "metadata": {},
   "outputs": [],
   "source": [
    "plt.plot(excerpt.waveform[0])"
   ]
  },
  {
   "cell_type": "code",
   "execution_count": null,
   "metadata": {},
   "outputs": [],
   "source": [
    "plt.plot(out[0, 0])"
   ]
  },
  {
   "cell_type": "code",
   "execution_count": null,
   "metadata": {},
   "outputs": [],
   "source": []
  },
  {
   "cell_type": "code",
   "execution_count": null,
   "metadata": {},
   "outputs": [],
   "source": []
  }
 ],
 "metadata": {
  "kernelspec": {
   "display_name": "dev",
   "language": "python",
   "name": "python3"
  },
  "language_info": {
   "codemirror_mode": {
    "name": "ipython",
    "version": 3
   },
   "file_extension": ".py",
   "mimetype": "text/x-python",
   "name": "python",
   "nbconvert_exporter": "python",
   "pygments_lexer": "ipython3",
   "version": "3.12.3"
  }
 },
 "nbformat": 4,
 "nbformat_minor": 2
}
