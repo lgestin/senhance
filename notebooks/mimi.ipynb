{
 "cells": [
  {
   "cell_type": "code",
   "execution_count": 11,
   "metadata": {},
   "outputs": [],
   "source": [
    "import torch\n",
    "from denoiser.data.audio import Audio\n",
    "from denoiser.models.codec.mimi import MimiCodec\n",
    "\n",
    "from IPython.display import Audio as AudioPlayer"
   ]
  },
  {
   "cell_type": "code",
   "execution_count": 12,
   "metadata": {},
   "outputs": [],
   "source": [
    "device = 'cuda' if torch.cuda.is_available() else 'cpu'\n",
    "mimi = MimiCodec(\"/home/lucas/models/moshi/tokenizer-e351c8d8-checkpoint125.safetensors\")\n",
    "mimi = mimi.to(device)"
   ]
  },
  {
   "cell_type": "code",
   "execution_count": 13,
   "metadata": {},
   "outputs": [],
   "source": [
    "audio = Audio(\"/data/denoising/speech/daps/clean/f10_script1_clean.wav\")\n",
    "audio.resample(mimi.sample_rate)"
   ]
  },
  {
   "cell_type": "code",
   "execution_count": 20,
   "metadata": {},
   "outputs": [],
   "source": [
    "with torch.inference_mode():\n",
    "    reconstructed = mimi.decode(mimi.encode(audio.waveform[None].to(device)))\n",
    "    # reconstructed = mimi.reconstruct(audio.waveform[None].to(device))"
   ]
  },
  {
   "cell_type": "code",
   "execution_count": 21,
   "metadata": {},
   "outputs": [],
   "source": [
    "AudioPlayer(audio.waveform, rate=mimi.sample_rate)"
   ]
  },
  {
   "cell_type": "code",
   "execution_count": 22,
   "metadata": {},
   "outputs": [],
   "source": [
    "AudioPlayer(reconstructed[0].cpu(), rate=mimi.sample_rate)"
   ]
  }
 ],
 "metadata": {
  "kernelspec": {
   "display_name": "dev",
   "language": "python",
   "name": "python3"
  },
  "language_info": {
   "codemirror_mode": {
    "name": "ipython",
    "version": 3
   },
   "file_extension": ".py",
   "mimetype": "text/x-python",
   "name": "python",
   "nbconvert_exporter": "python",
   "pygments_lexer": "ipython3",
   "version": "3.12.4"
  }
 },
 "nbformat": 4,
 "nbformat_minor": 2
}
